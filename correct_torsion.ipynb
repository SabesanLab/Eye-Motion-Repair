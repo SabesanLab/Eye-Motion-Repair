{
 "cells": [
  {
   "cell_type": "code",
   "execution_count": null,
   "metadata": {},
   "outputs": [],
   "source": [
    "%pylab inline"
   ]
  },
  {
   "cell_type": "code",
   "execution_count": null,
   "metadata": {},
   "outputs": [],
   "source": [
    "import scipy.io as sio\n",
    "import os\n",
    "import glob\n"
   ]
  },
  {
   "cell_type": "code",
   "execution_count": null,
   "metadata": {},
   "outputs": [],
   "source": [
    "dirname='/mnt/f/Torsion_correction_data/Image_00001_AO001R_896_512_600_50_1.57_12000_-ve0.13_Nd0.0_20ms/registervol_combine'\n",
    "filename=dirname+'/1/1_registeredvol.mat'\n",
    "\n",
    "vol1=sio.loadmat(filename)['registered_vol']"
   ]
  },
  {
   "cell_type": "code",
   "execution_count": null,
   "metadata": {},
   "outputs": [],
   "source": [
    "import pickle\n",
    "import SimpleITK as sitk\n",
    "\n",
    "shifted=np.zeros( (26, 512, 600), dtype=\"complex\")\n",
    "avg_im=np.zeros( (26, 512, 600))\n",
    "avg_nonzero = np.zeros( (26, 512, 600))\n",
    "\n",
    "file=open('./data/xforms_itk.pickle','rb')\n",
    "itk_xforms=pickle.load(file)\n",
    "\n",
    "dirname='/mnt/f/Torsion_correction_data/Image_00001_AO001R_896_512_600_50_1.57_12000_-ve0.13_Nd0.0_20ms/registervol_combine'\n",
    "newdir='/mnt/f/Torsion_correction_data/Image_00001_AO001R_896_512_600_50_1.57_12000_-ve0.13_Nd0.0_20ms/torsion_DEL'\n",
    "\n",
    "# Note: nframe should be the one-based filename\n",
    "for nframe in np.arange(10,400):\n",
    "    # abs is needed just for 0\n",
    "    dir1=dirname+  '/%d'%(((nframe-1)//50)+1)\n",
    "    newdir1=newdir+'/%d'%(((nframe-1)//50)+1)\n",
    "\n",
    "    filebase='/%d_registeredvol.mat'%(nframe) # Number will be file number: nframe=1 = file1 (not zero-based)\n",
    "    filename=dir1+filebase\n",
    "    \n",
    "    vol1=sio.loadmat(filename)['registered_vol']\n",
    "\n",
    "    print('\\nF%03d'%nframe,end=' ')\n",
    "    \n",
    "    axials=np.arange(np.shape(vol1)[0])\n",
    "    axials=[13,14,15,16,17]\n",
    "    \n",
    "    basename=filename[:-4]\n",
    "    xform1=itk_xforms[nframe-1] # 0 based to 1-based\n",
    "\n",
    "    for nlayer in axials :\n",
    "        print(nlayer,end=' ')\n",
    "        layer1=vol1[nlayer,:,:]\n",
    "        realpart=np.abs(layer1)\n",
    "        imagpart=np.angle(layer1)\n",
    "        \n",
    "        realpart = np.flipud( np.rot90(realpart) )\n",
    "        imagpart = np.flipud( np.rot90(imagpart) )\n",
    "\n",
    "        out_im = sitk.Resample(sitk.GetImageFromArray(realpart), xform1, sitk.sitkLanczosWindowedSinc)\n",
    "        out_im_arr = np.reshape( out_im, (600,512))\n",
    "        out_im_arr = np.rot90( np.flipud( out_im_arr), -1 )\n",
    "        avg_im[nlayer] += out_im_arr\n",
    "        avg_nonzero[nlayer] += (out_im_arr > 0)\n",
    "        \n",
    "        out_complex = sitk.Resample(sitk.GetImageFromArray(imagpart), xform1, sitk.sitkLanczosWindowedSinc)\n",
    "        out_complex = np.reshape( out_complex, (600,512))\n",
    "        out_complex = np.rot90( np.flipud( out_complex), -1 )\n",
    "        \n",
    "        shifted[nlayer] = out_im_arr + 1j * out_complex\n",
    "    \n",
    "    newname=newdir1+filebase[:-4]+'_rot.mat'\n",
    "    #newname=basename+'_rot_real.mat'\n",
    "    sio.savemat(newname,{'registered_vol':shifted})\n",
    "#        for layer in np.arange(np.shape(vol1[0])):\n",
    "            \n",
    "avg_nonzero[avg_nonzero==0]=1 # Prevent divide by zero. If all frames are 0, total will be zero so /1 is okay\n",
    "avg_im /= avg_nonzero\n",
    "# avg_im[isnan(avg_im)]=0 # This would also work\n",
    "\n",
    "newname=newdir1+filebase[:-4]+'_AVE_rot.mat'\n",
    "sio.savemat(newname,{'avg_vol':avg_im})\n",
    "#xform=itk_xforms[nframe]\n",
    "\n",
    " #   \n",
    "  #  shifted[:,:,nframe] = sitk.GetArrayFromImage(out_im)\n",
    "        \n",
    "    "
   ]
  },
  {
   "cell_type": "code",
   "execution_count": null,
   "metadata": {},
   "outputs": [],
   "source": [
    "np.shape(realpart)"
   ]
  },
  {
   "cell_type": "code",
   "execution_count": null,
   "metadata": {},
   "outputs": [],
   "source": [
    "figure(figsize=(10,10))\n",
    "plt.imshow(np.abs(vol1[14,:,:]), cmap='bone')"
   ]
  },
  {
   "cell_type": "code",
   "execution_count": null,
   "metadata": {},
   "outputs": [],
   "source": [
    "newname=newdir1+filebase[:-4]+'_AVE_rot.mat'\n",
    "sio.savemat(newname,{'avg_vol_rot':avg_im }  )"
   ]
  },
  {
   "cell_type": "code",
   "execution_count": null,
   "metadata": {},
   "outputs": [],
   "source": [
    "np.max(avg_im[12:17],axis=0)"
   ]
  },
  {
   "cell_type": "code",
   "execution_count": null,
   "metadata": {},
   "outputs": [],
   "source": [
    "avg_im[isnan(avg_im)]=0"
   ]
  },
  {
   "cell_type": "code",
   "execution_count": null,
   "metadata": {},
   "outputs": [],
   "source": [
    "figure(figsize=(10,10))\n",
    "plt.imshow( ((np.max( avg_im,axis=0) )), cmap='bone')\n",
    "plt.savefig('corrected.png')"
   ]
  },
  {
   "cell_type": "code",
   "execution_count": null,
   "metadata": {},
   "outputs": [],
   "source": [
    "np.array(flipud)"
   ]
  },
  {
   "cell_type": "code",
   "execution_count": null,
   "metadata": {},
   "outputs": [],
   "source": [
    "def readvol1(dirname,num,per_dir):\n",
    "    if per_dir==1:\n",
    "        dir1=dirname+'/'\n",
    "    else:\n",
    "        dir1="
   ]
  },
  {
   "cell_type": "raw",
   "metadata": {},
   "source": [
    "import pickle\n",
    "import SimpleITK as sitk\n",
    "\n",
    "shifted=np.zeros( (26, 512, 600 ), dtype='complex')\n",
    "avg_im=np.zeros( (26, 512, 600))\n",
    "\n",
    "file=open('./data/xforms_itk.pickle','rb')\n",
    "itk_xforms=pickle.load(file)\n",
    "\n",
    "newdir='/mnt/f/Torsion_correction_data/Image_00001_AO001R_896_512_600_50_1.57_12000_-ve0.13_Nd0.0_20ms/torsion'\n",
    "\n",
    "for nframe in np.arange(1,401):\n",
    "    # abs is needed just for 0\n",
    "    dir1=dirname+  '/%d'%((abs(nframe-1)//50)+1)\n",
    "    newdir1=newdir+'/%d'%((abs(nframe-1)//50)+1)\n",
    "\n",
    "    filebase='/%d_registeredvol.mat'%(nframe)\n",
    "    filename=dir1+filebase\n",
    "    \n",
    "    vol1=sio.loadmat(filename)['registered_vol']\n",
    "\n",
    "    print('\\nF%03d'%nframe,end=' ')\n",
    "    \n",
    "    axials=np.arange(np.shape(vol1)[0])\n",
    "    #axials=[23-16]\n",
    "    \n",
    "    basename=filename[:-4]\n",
    "    for nlayer in axials:\n",
    "        print(nlayer,end=' ')\n",
    "        layer1=vol1[nlayer,:,:]\n",
    "        realpart=np.abs(layer1)\n",
    "        imagpart=np.angle(layer1)\n",
    "        xform1=itk_xforms[nlayer]\n",
    "        out_im = sitk.Resample(sitk.GetImageFromArray(realpart), xform1, sitk.sitkLanczosWindowedSinc)\n",
    "        out_im_arr = np.reshape( out_im, (512,600))\n",
    "        avg_im[nlayer] += out_im_arr\n",
    "\n",
    "        out_angle = sitk.Resample(sitk.GetImageFromArray(imagpart), xform1, sitk.sitkLanczosWindowedSinc)\n",
    "        out_angle = np.reshape( out_angle, (512,600))\n",
    "\n",
    "        shifted[nlayer] = out_im_arr + 1j * out_angle\n",
    "             N;LLLLLLLLLLLLLLLLLLLLLLLLLLLLLLLL\n",
    "    newname=newdir1+filebase[:-4]+'_rot.mat'\n",
    "    sio.savemat(newname,{'registered_vol':shifted})\n",
    "            \n",
    "avg_im /= nframe\n",
    "\n",
    "newname=newdir1+filebase[:-4]+'_AVE_rot.mat'\n",
    "sio.savemat(newname,{'avg_vol_rot':avg_im})\n",
    "#xform=itk_xforms[nframe]\n",
    "\n",
    " #   \n",
    "  #  shifted[:,:,nframe] = sitk.GetArrayFromImage(out_im)\n",
    "        \n",
    "        "
   ]
  },
  {
   "cell_type": "code",
   "execution_count": null,
   "metadata": {},
   "outputs": [],
   "source": [
    "# Find the center relative to what Cooper's code thought was the center,\n",
    "# using the ref. frame it picked (193 for python, which is MATLAB #194)\n",
    "\n",
    "frame0_raw = vid_raw.data[ref_idx].astype('float32')\n",
    "frame0_stab = vid_stab.data[:,:,ref_idx].astype('float32')"
   ]
  },
  {
   "cell_type": "code",
   "execution_count": null,
   "metadata": {},
   "outputs": [],
   "source": [
    "plt.figure(figsize=(8,8))\n",
    "plt.imshow( avg_im[23-16])"
   ]
  },
  {
   "cell_type": "code",
   "execution_count": null,
   "metadata": {},
   "outputs": [],
   "source": [
    "# DELETE THIS\n",
    "\n",
    "import pickle\n",
    "import SimpleITK as sitk\n",
    "\n",
    "shifted=np.zeros( (26, 512, 600 ), dtype='complex')\n",
    "avg_im=np.zeros( (26, 512, 600))\n",
    "\n",
    "file=open('./data/xforms_itk.pickle','rb')\n",
    "itk_xforms=pickle.load(file)\n",
    "\n",
    "#c #?\n",
    "newdir='/mnt/f/Torsion_correction_data/Image_00001_AO001R_896_512_600_50_1.57_12000_-ve0.13_Nd0.0_20ms/torsion_padded'\n",
    "\n",
    "for nframe in [268]: #np.arange(1,401):\n",
    "    # abs is needed just for 0\n",
    "    dir1=dirname +  '/' #'/%d'%((abs(nframe-1)//50)+1) #for padded, no subdir\n",
    "    newdir1=newdir+'/' #'/%d'%((abs(nframe-1)//50)+1)\n",
    "\n",
    "    filebase='/%d_registeredvol.mat'%(nframe)\n",
    "    filename=dir1+filebase\n",
    "    \n",
    "    vol1=sio.loadmat(filename)['registered_vol']\n",
    "\n",
    "    print('\\nF%03d'%nframe,end=' ')\n",
    "    \n",
    "    axials=np.arange(np.shape(vol1)[0])\n",
    "    #axials=[23-16]\n",
    "    \n",
    "    basename=filename[:-4]\n",
    "    for nlayer in axials :\n",
    "        print(nlayer,end=' ')\n",
    "        layer1=vol1[nlayer,:,:]\n",
    "        realpart=np.abs(layer1)\n",
    "        imagpart=np.angle(layer1)\n",
    "        xform1=itk_xforms[nlayer]\n",
    "        \n",
    "        # The actualy center was determined by cross-correlating the reference image Cooper's code\n",
    "        # used (from frame 193 of the cropped images), with the padded images. Thus we find where\n",
    "        # the middle of the original/learned affine (512/2,600/2), in relation to the padded volumes \n",
    "        new_center=(384,368)\n",
    "        xform1.SetCenter(new_center) #\n",
    "        \n",
    "        out_im = sitk.Resample(sitk.GetImageFromArray(realpart), xform1, sitk.sitkLanczosWindowedSinc)\n",
    "        out_im_arr = np.reshape( out_im, (512,600))\n",
    "        avg_im[nlayer] += out_im_arr\n",
    "\n",
    "        out_angle = sitk.Resample(sitk.GetImageFromArray(imagpart), xform1, sitk.sitkLanczosWindowedSinc)\n",
    "        out_angle = np.reshape( out_angle, (512,600))\n",
    "\n",
    "        shifted[nlayer] = out_im_arr + 1j * out_angle\n",
    "\n",
    "    newname=newdir1+filebase[:-4]+'_rot.mat'\n",
    "   # sio.savemat(newname,{'registered_vol':shifted})\n",
    "            \n",
    "avg_im /= nframe\n",
    "\n",
    "newname=newdir1+filebase[:-4]+'_AVE_rot.mat'\n",
    "#sio.savemat(newname,{'avg_vol_rot':avg_im})\n",
    "#xform=itk_xforms[nframe]\n",
    "\n",
    " #   \n",
    "  #  shifted[:,:,nframe] = sitk.GetArrayFromImage(out_im)\n",
    "        \n",
    "    "
   ]
  },
  {
   "cell_type": "code",
   "execution_count": null,
   "metadata": {},
   "outputs": [],
   "source": [
    "file=open('./data/xforms_itk.pickle','rb')\n",
    "itk_xforms=pickle.load(file)\n",
    "\n",
    "diags=np.zeros(401)\n",
    "# Note: nframe should be the one-based filename\n",
    "for nframe in np.arange(1,400):\n",
    "    xform1=np.reshape( itk_xforms[nframe-1].GetMatrix(), (2,2) )\n",
    "    diags[nframe]=np.sqrt((1*xform1[0,1]**2+1*xform1[1,0]**2))"
   ]
  },
  {
   "cell_type": "code",
   "execution_count": null,
   "metadata": {},
   "outputs": [],
   "source": [
    "maxloc=np.where( diags==np.max(diags) )[0][0]\n",
    "\n",
    "plt.figure(figsize=(15,3))\n",
    "plt.plot( np.arange(1,402), diags, marker='.' )\n",
    "plt.grid()\n",
    "plt.axvline(maxloc, color='r', lw=1, label='%0.3f @ %d'%(max(diags),maxloc) )\n",
    "plt.legend()\n",
    "\n",
    "print( np.reshape( itk_xforms[maxloc-1].GetMatrix(), (2,2) ) )"
   ]
  },
  {
   "cell_type": "code",
   "execution_count": null,
   "metadata": {},
   "outputs": [],
   "source": []
  },
  {
   "cell_type": "code",
   "execution_count": null,
   "metadata": {},
   "outputs": [],
   "source": [
    "import torsion_params\n",
    "len(glob.glob(torsion_params.volumes))"
   ]
  },
  {
   "cell_type": "code",
   "execution_count": null,
   "metadata": {},
   "outputs": [],
   "source": [
    "%load_ext autoreload\n",
    "%autoreload 2"
   ]
  },
  {
   "cell_type": "code",
   "execution_count": null,
   "metadata": {},
   "outputs": [],
   "source": [
    "(np.array( xform_info[\"xforms\"][3].GetCenter())+ 0.5 ) * 2"
   ]
  },
  {
   "cell_type": "code",
   "execution_count": null,
   "metadata": {},
   "outputs": [],
   "source": [
    "file=open('data/xform_info.pickle','rb')\n",
    "xform_info=pickle.load(file)"
   ]
  },
  {
   "cell_type": "code",
   "execution_count": null,
   "metadata": {},
   "outputs": [],
   "source": [
    "for xf1 in xform_info:\n",
    "    if not xf1=='xforms':\n",
    "        print ('%s: %s'%(str(xf1),str(xform_info[xf1]) ) )"
   ]
  },
  {
   "cell_type": "code",
   "execution_count": null,
   "metadata": {},
   "outputs": [],
   "source": [
    "xform_info['xforms'][0].GetCenter()"
   ]
  },
  {
   "cell_type": "code",
   "execution_count": null,
   "metadata": {},
   "outputs": [],
   "source": [
    "file=open('data/xform_info.pickle','rb')\n",
    "xform_info=pickle.load(file)\n",
    "\n",
    "print( 'Input is in: %s'%torsion_params.volume_directory)\n",
    "\n",
    "filename1=glob.glob(torsion_params.volumes)[0]\n",
    "vol1=sio.loadmat(filename1)['registered_vol']\n",
    "print('Volumes have shape: '+str(vol1.shape))\n",
    "\n",
    "shape_compute=xform_info['shape']\n",
    "\n",
    "if all ((not(torsion_params.volume_rot90),shape_compute[0]==vol1.shape[1]-torsion_params.padding_pixels_each_side*2,\n",
    "         shape_compute[1]==vol1.shape[2]-torsion_params.padding_pixels_each_side*2)):\n",
    "    flip_volumes=False\n",
    "elif all ((torsion_params.volume_rot90,shape_compute[0]==vol1.shape[2]-torsion_params.padding_pixels_each_side*2,\n",
    "           shape_compute[1]==vol1.shape[1]-torsion_params.padding_pixels_each_side*2)):\n",
    "    flip_volumes=True\n",
    "    print (\"Volume rot90 needed. Computed shape=\"+str(shape_compute))\n",
    "else:\n",
    "    print(\"Computed shape=\"+str(shape_compute)+', rot90 not specified. Cannot determine. Stopping.')\n",
    "    print(\"To do rot90 of volumes, set volume_rot90=1 in params file.\")\n",
    "    sys.exit()\n",
    "    \n",
    "shifted=np.zeros( vol1.shape, dtype='complex')\n",
    "avg_im=np.zeros( vol1.shape )\n",
    "avg_nonzero_count=np.zeros(vol1.shape)\n",
    "\n",
    "if not(os.path.exists(torsion_params.volumes_rotated_directory )):\n",
    "    os.mkdir( torsion_params.volumes_rotated_directory )\n",
    "\n",
    "for vol_file in glob.glob(torsion_params.volumes):\n",
    "    nvol = int( vol_file.split('/')[-1].split('_')[0] )\n",
    "    if (torsion_params.volumes_to_process is not None) and (nvol not in torsion_params.volumes_to_process):\n",
    "        continue\n",
    "    \n",
    "    print( '\\nVolume %02d -'%nvol,end=' ')\n",
    "    \n",
    "    vol1=sio.loadmat(vol_file)['registered_vol']\n",
    "    xform1=xform_info[\"xforms\"][nvol-1] # 0 based to 1-based:TODO, maybe switch to all one-based ?\n",
    "    \n",
    "    for nlayer in torsion_params.layers_to_process:\n",
    "        print( nlayer, end=' ')\n",
    "        \n",
    "        layer1=vol1[nlayer,:,:]\n",
    "        realpart=np.abs(layer1)\n",
    "        imagpart=np.angle(layer1)\n",
    "        \n",
    "        if flip_volumes:\n",
    "            realpart = np.flipud( np.rot90(realpart) )\n",
    "            imagpart = np.flipud( np.rot90(imagpart) )\n",
    "\n",
    "        if torsion_params.padding_pixels_each_side>0:\n",
    "            cx,cy=xform1.GetCenter()\n",
    "            cx += torsion_params.padding_pixels_each_side\n",
    "            cy += torsion_params.padding_pixels_each_side\n",
    "            xform1.SetCenter((cx,cy))\n",
    "        \n",
    "        out_im = sitk.Resample(sitk.GetImageFromArray(realpart), xform1, sitk.sitkLanczosWindowedSinc)\n",
    "        out_im_arr = np.reshape( out_im, np.array(shape_compute[0:2])+torsion_params.padding_pixels_each_side*2)\n",
    "        \n",
    "        if flip_volumes:\n",
    "            out_im_arr = np.rot90( np.flipud( out_im_arr), -1 )\n",
    "            \n",
    "        avg_im[nlayer] += out_im_arr\n",
    "        avg_nonzero_count[nlayer] += (out_im_arr > 0)\n",
    "        \n",
    "        out_complex = sitk.Resample(sitk.GetImageFromArray(imagpart), xform1, sitk.sitkLanczosWindowedSinc)\n",
    "        out_complex = np.reshape( out_complex, np.array(shape_compute[0:2])+torsion_params.padding_pixels_each_side*2 )\n",
    "        \n",
    "        if flip_volumes:\n",
    "            out_complex = np.rot90( np.flipud( out_complex), -1 )\n",
    "        \n",
    "        shifted[nlayer] = out_im_arr + 1j * out_complex\n",
    "    \n",
    "    # Save all rotated layers in new reg_vol file\n",
    "    newname=os.path.join(torsion_params.volumes_rotated_directory,'%d_registeredvol.mat'%nvol)\n",
    "    sio.savemat(newname,{'registered_vol':shifted})\n",
    "\n",
    "    # Overwrite average image each volume to monitor progress\n",
    "    avg_nonzero_count[avg_nonzero_count==0]=1 \n",
    "    newavg=os.path.join(torsion_params.volumes_rotated_directory,'avg_volume.mat')\n",
    "    # Prevent divide by zero. If all frames are 0, total will be zero, so /1 is good. Using inf/nans also works.\n",
    "    av_count_now=avg_nonzero_count+(avg_nonzero_count==0)*1\n",
    "    sio.savemat(newavg, {'avg_volume':avg_im/av_count_now} )\n",
    "\n",
    "print( '\\n\\nOutput is in: %s'%torsion_params.volumes_rotated_directory)\n"
   ]
  },
  {
   "cell_type": "code",
   "execution_count": null,
   "metadata": {},
   "outputs": [],
   "source": []
  },
  {
   "cell_type": "code",
   "execution_count": null,
   "metadata": {},
   "outputs": [],
   "source": [
    "plt.figure(figsize=(10,10))\n",
    "plt.imshow(avg_im[15])"
   ]
  },
  {
   "cell_type": "code",
   "execution_count": null,
   "metadata": {},
   "outputs": [],
   "source": [
    "import pickle\n",
    "import SimpleITK as sitk\n",
    "\n",
    "shifted=np.zeros( (26, 512, 600), dtype=\"complex\")\n",
    "avg_im=np.zeros( (26, 512, 600))\n",
    "avg_nonzero = np.zeros( (26, 512, 600))\n",
    "\n",
    "file=open('./data/xforms_itk.pickle','rb')\n",
    "itk_xforms=pickle.load(file)\n",
    "\n",
    "dirname='/mnt/f/Torsion_correction_data/Image_00001_AO001R_896_512_600_50_1.57_12000_-ve0.13_Nd0.0_20ms/registervol_combine'\n",
    "newdir='/mnt/f/Torsion_correction_data/Image_00001_AO001R_896_512_600_50_1.57_12000_-ve0.13_Nd0.0_20ms/torsion_DEL'\n",
    "\n",
    "nRef=183\n",
    "dir_ref=dirname+  '/%d'%(((nRef-1)//50)+1)\n",
    "filename_ref=dir_ref+'/%d_registeredvol.mat'%(nRef)\n",
    "ref1=sio.loadmat(filename_ref)['registered_vol']\n",
    "\n",
    "\n",
    "testframe=100 # or maxloc\n",
    "\n",
    "# Note: nframe should be the one-based filename\n",
    "for nframe in [testframe]: #np.arange(10,400):\n",
    "    # abs is needed just for 0\n",
    "    dir1=dirname+  '/%d'%(((nframe-1)//50)+1)\n",
    "    newdir1=newdir+'/%d'%(((nframe-1)//50)+1)\n",
    "\n",
    "    filebase='/%d_registeredvol.mat'%(nframe) # Number will be file number: nframe=1 = file1 (not zero-based)\n",
    "    filename=dir1+filebase\n",
    "    \n",
    "    vol1=sio.loadmat(filename)['registered_vol']\n",
    "\n",
    "    print('\\nF%03d (%s\\\\%s)'%(nframe,dir1[-1],filebase.split('_')[0][1:]),end=' ')\n",
    "    \n",
    "    axials=np.arange(np.shape(vol1)[0])\n",
    "    axials=[15] #[13,14,15,16,17]\n",
    "    \n",
    "    basename=filename[:-4]\n",
    "    xform1=itk_xforms[nframe] # 0 based to 1-based\n",
    "\n",
    "    for nlayer in axials :\n",
    "        print(nlayer,end=' ')\n",
    "        layer1=vol1[nlayer,:,:]\n",
    "        realpart=np.abs(layer1)\n",
    "        imagpart=np.angle(layer1)\n",
    "        \n",
    "        if torsion_params.\n",
    "        realpart = np.flipud( np.rot90(realpart) )\n",
    "        imagpart = np.flipud( np.rot90(imagpart) )\n",
    "\n",
    "        out_im = sitk.Resample(sitk.GetImageFromArray(realpart), xform1, sitk.sitkLanczosWindowedSinc)\n",
    "        out_im_arr = np.reshape( out_im, (600,512))\n",
    "        out_im_arr = np.rot90( np.flipud( out_im_arr), -1 )\n",
    "        avg_im[nlayer] += out_im_arr\n",
    "        avg_nonzero[nlayer] += (out_im_arr > 0)\n",
    "        \n",
    "        out_complex = sitk.Resample(sitk.GetImageFromArray(imagpart), xform1, sitk.sitkLanczosWindowedSinc)\n",
    "        out_complex = np.reshape( out_complex, (600,512))\n",
    "        out_complex = np.rot90( np.flipud( out_complex), -1 )\n",
    "        \n",
    "        shifted[nlayer] = out_im_arr + 1j * out_complex\n",
    "    \n",
    "    newname=newdir1+filebase[:-4]+'_rot.mat'\n",
    "    #newname=basename+'_rot_real.mat'\n",
    "    #sio.savemat(newname,{'registered_vol':shifted})\n",
    "#        for layer in np.arange(np.shape(vol1[0])):\n",
    "            \n",
    "avg_nonzero[avg_nonzero==0]=1 # Prevent divide by zero. If all frames are 0, total will be zero so /1 is okay\n",
    "avg_im /= avg_nonzero\n",
    "# avg_im[isnan(avg_im)]=0 # This would also work\n",
    "\n",
    "newname=newdir1+filebase[:-4]+'_AVE_rot.mat'\n",
    "#sio.savemat(newname,{'avg_vol':avg_im})\n",
    "#xform=itk_xforms[nframe]\n",
    "\n",
    " #   \n",
    "  #  shifted[:,:,nframe] = sitk.GetArrayFromImage(out_im)\n",
    "        \n",
    "    "
   ]
  },
  {
   "cell_type": "code",
   "execution_count": null,
   "metadata": {},
   "outputs": [],
   "source": [
    "dir1[-1]"
   ]
  },
  {
   "cell_type": "code",
   "execution_count": null,
   "metadata": {},
   "outputs": [],
   "source": [
    "np.shape(realpart)"
   ]
  },
  {
   "cell_type": "code",
   "execution_count": null,
   "metadata": {},
   "outputs": [],
   "source": [
    "yidx=550\n",
    "xidx=450\n",
    "plt.figure(figsize=(13,7))\n",
    "plt.subplot(1,2,1)\n",
    "plt.imshow( (np.abs(realpart))[yidx:,xidx:], cmap='Spectral_r' )\n",
    "plt.subplot(1,2,2)\n",
    "plt.imshow( np.abs(shifted[15,xidx:,yidx:]), cmap='Spectral_r' )\n",
    "plt.figure(figsize=(13,7))\n",
    "plt.subplot(1,2,1)\n",
    "plt.imshow( np.abs(ref1[15,xidx:,yidx:]), cmap='Spectral_r' )\n",
    "plt.subplot(1,2,2)\n",
    "plt.imshow( np.abs(ref1[15,xidx:,yidx:]), cmap='Spectral_r' )"
   ]
  },
  {
   "cell_type": "code",
   "execution_count": null,
   "metadata": {},
   "outputs": [],
   "source": [
    "plt.figure(figsize=(8,8))\n",
    "plt.imshow( np.abs(shifted[15,:,:]), cmap='Spectral_r' )"
   ]
  },
  {
   "cell_type": "code",
   "execution_count": null,
   "metadata": {},
   "outputs": [],
   "source": [
    "np.shape(shifted[15,:,:])"
   ]
  },
  {
   "cell_type": "code",
   "execution_count": null,
   "metadata": {},
   "outputs": [],
   "source": [
    "T=xform1.GetTranslation()\n",
    "xfmat=np.hstack( (np.reshape( xform1.GetMatrix(), (2,2) ), [[T[0]],[T[1]]] ) )\n",
    "xfmat=np.vstack( (xfmat, [0, 0, 1]) )\n",
    "\n",
    "sio.savemat('/mnt/c/Users/Vimal/code/Eye-Motion-Repair/xform.mat',{'xform':xfmat})"
   ]
  },
  {
   "cell_type": "code",
   "execution_count": null,
   "metadata": {},
   "outputs": [],
   "source": [
    "pwdT"
   ]
  },
  {
   "cell_type": "code",
   "execution_count": null,
   "metadata": {},
   "outputs": [],
   "source": [
    "plt.figure(figsize=(10,10))\n",
    "plt.imshow( np.abs(shifted[15]) )"
   ]
  }
 ],
 "metadata": {
  "kernelspec": {
   "display_name": "Python 3",
   "language": "python",
   "name": "python3"
  },
  "language_info": {
   "codemirror_mode": {
    "name": "ipython",
    "version": 3
   },
   "file_extension": ".py",
   "mimetype": "text/x-python",
   "name": "python",
   "nbconvert_exporter": "python",
   "pygments_lexer": "ipython3",
   "version": "3.8.10"
  }
 },
 "nbformat": 4,
 "nbformat_minor": 4
}
